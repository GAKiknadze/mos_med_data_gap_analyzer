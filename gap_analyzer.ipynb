{
 "cells": [
  {
   "cell_type": "code",
   "execution_count": 15,
   "id": "26c38e9c",
   "metadata": {},
   "outputs": [],
   "source": [
    "# Впишите путь к датасету с .dcm файлами\n",
    "DCM_FOLDER_PATH = \"./data\""
   ]
  },
  {
   "cell_type": "code",
   "execution_count": 16,
   "id": "a951bf1d",
   "metadata": {},
   "outputs": [
    {
     "name": "stdout",
     "output_type": "stream",
     "text": [
      "Найдено 288 фалов формата `.dcm` по пути `./data`\n"
     ]
    }
   ],
   "source": [
    "import os\n",
    "\n",
    "\n",
    "def find_dcm_files(root_folder: str):\n",
    "    # Рекурсивный поиск всех абсолютных путей файлов формата .dcm\n",
    "    dcm_files = []\n",
    "    for dirpath, _, filenames in os.walk(root_folder):\n",
    "        for filename in filenames:\n",
    "            if filename.lower().endswith(\".dcm\"):\n",
    "                dcm_files.append(os.path.abspath(os.path.join(dirpath, filename)))\n",
    "    return dcm_files\n",
    "\n",
    "\n",
    "DCM_FILES_PATHS = find_dcm_files(DCM_FOLDER_PATH)\n",
    "\n",
    "print(f\"Найдено {len(DCM_FILES_PATHS)} фалов формата `.dcm` по пути `{DCM_FOLDER_PATH}`\")"
   ]
  },
  {
   "cell_type": "code",
   "execution_count": null,
   "id": "7ce9fa9f",
   "metadata": {},
   "outputs": [],
   "source": []
  }
 ],
 "metadata": {
  "kernelspec": {
   "display_name": "mos-med-data-gap-analyzer",
   "language": "python",
   "name": "python3"
  },
  "language_info": {
   "codemirror_mode": {
    "name": "ipython",
    "version": 3
   },
   "file_extension": ".py",
   "mimetype": "text/x-python",
   "name": "python",
   "nbconvert_exporter": "python",
   "pygments_lexer": "ipython3",
   "version": "3.12.0"
  }
 },
 "nbformat": 4,
 "nbformat_minor": 5
}
